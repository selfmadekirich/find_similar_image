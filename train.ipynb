{
 "cells": [
  {
   "cell_type": "code",
   "execution_count": 3,
   "metadata": {},
   "outputs": [],
   "source": [
    "import numpy as np\n",
    "import cv2 as cv\n",
    "import matplotlib.pyplot as plt"
   ]
  },
  {
   "cell_type": "code",
   "execution_count": 26,
   "metadata": {},
   "outputs": [],
   "source": [
    "import os\n",
    "\n",
    "des_arr = np.array([])\n",
    "for image in os.listdir('train'):\n",
    "    path = os.path.join('train',image)\n",
    "    img = cv.imread(path)\n",
    "    img = cv.cvtColor(img, cv.COLOR_BGR2GRAY)\n",
    "    sift = cv.SIFT_create()\n",
    "    _, des = sift.detectAndCompute(img,None)\n",
    "    des_arr = des if des_arr.size == 0 else np.vstack((des_arr, des))\n"
   ]
  },
  {
   "cell_type": "code",
   "execution_count": 28,
   "metadata": {},
   "outputs": [],
   "source": [
    "#np.savetxt(\"des_array.csv\", des_arr, delimiter=\",\")"
   ]
  },
  {
   "cell_type": "code",
   "execution_count": 31,
   "metadata": {},
   "outputs": [],
   "source": [
    "from sklearn.cluster import KMeans\n",
    "\n",
    "kmeans = KMeans(n_clusters=512, random_state=0).fit(des_arr)"
   ]
  },
  {
   "cell_type": "code",
   "execution_count": 32,
   "metadata": {},
   "outputs": [
    {
     "data": {
      "text/plain": [
       "['kmeans.joblib']"
      ]
     },
     "execution_count": 32,
     "metadata": {},
     "output_type": "execute_result"
    }
   ],
   "source": [
    "from joblib import dump, load\n",
    "dump(kmeans, 'kmeans.joblib') \n"
   ]
  },
  {
   "cell_type": "code",
   "execution_count": 40,
   "metadata": {},
   "outputs": [],
   "source": [
    "def vectorize_image(image:np.array,model,n_clusters=512):\n",
    "    _,des = sift.detectAndCompute(image,None)\n",
    "    classes = model.predict(des)\n",
    "    hist = np.zeros(n_clusters)\n",
    "    for clss in classes:\n",
    "        hist[clss] += 1\n",
    "\n",
    "    hist /= len(classes)\n",
    "    return hist\n"
   ]
  },
  {
   "cell_type": "code",
   "execution_count": 43,
   "metadata": {},
   "outputs": [],
   "source": [
    "db_csv_name = 'db.csv'"
   ]
  },
  {
   "cell_type": "code",
   "execution_count": 98,
   "metadata": {},
   "outputs": [],
   "source": [
    "import pandas as pd\n",
    "\n",
    "ind = 0\n",
    "for image in os.listdir('db'):\n",
    "    ind += 1\n",
    "    path = os.path.join('db',image)\n",
    "    img = cv.imread(path)\n",
    "    img = cv.cvtColor(img, cv.COLOR_BGR2GRAY)\n",
    "    \n",
    "    df = pd.DataFrame(data={'uid':ind,'filepath':path,'encoding_vector':[vectorize_image(img,kmeans)]})\n",
    "    df.set_index('uid', inplace=True)\n",
    "    df['encoding_vector'] = df['encoding_vector'].apply(lambda x: np.array2string(x, separator=','))\n",
    "    df.to_csv(db_csv_name, mode='a', header=not os.path.exists(db_csv_name),sep='\\t')\n",
    "    \n"
   ]
  },
  {
   "cell_type": "code",
   "execution_count": 99,
   "metadata": {},
   "outputs": [],
   "source": [
    "db = pd.read_csv('db.csv',delimiter='\\t')\n",
    "db['encoding_vector'] = db['encoding_vector'].apply(lambda x: eval(x))\n"
   ]
  },
  {
   "cell_type": "code",
   "execution_count": 100,
   "metadata": {},
   "outputs": [],
   "source": [
    "from sklearn.neighbors import NearestNeighbors\n",
    "nbrs = NearestNeighbors(n_neighbors=5, metric='cosine').fit(db['encoding_vector'])"
   ]
  }
 ],
 "metadata": {
  "kernelspec": {
   "display_name": "Python 3",
   "language": "python",
   "name": "python3"
  },
  "language_info": {
   "codemirror_mode": {
    "name": "ipython",
    "version": 3
   },
   "file_extension": ".py",
   "mimetype": "text/x-python",
   "name": "python",
   "nbconvert_exporter": "python",
   "pygments_lexer": "ipython3",
   "version": "3.10.1"
  }
 },
 "nbformat": 4,
 "nbformat_minor": 2
}
